{
 "cells": [
  {
   "cell_type": "code",
   "execution_count": 26,
   "metadata": {},
   "outputs": [
    {
     "name": "stdout",
     "output_type": "stream",
     "text": [
      "Selected 2023 for searchYearStart\n",
      "Selected 2023 for searchYearEnd\n",
      "Selected 12 for searchMonthStart\n",
      "Selected 12 for searchMonthEnd\n"
     ]
    }
   ],
   "source": [
    "from selenium import webdriver\n",
    "from selenium.webdriver.common.by import By\n",
    "from selenium.webdriver.chrome.options import Options\n",
    "from selenium.webdriver.support.ui import WebDriverWait\n",
    "from selenium.webdriver.support import expected_conditions as EC\n",
    "from selenium.webdriver.support.ui import Select\n",
    "from selenium.webdriver.common.alert import Alert\n",
    "\n",
    "options = Options()\n",
    "user_agent = 'Mozilla/5.0 (Windows NT 10.0; Win64; x64) AppleWebKit/537.36 (KHTML, like Gecko) Chrome/91.0.4472.124 Safari/537.36'\n",
    "options.add_argument('user-agent=' + user_agent)\n",
    "driver = webdriver.Chrome(options=options)\n",
    "driver.maximize_window()\n",
    "driver.get(\"https://jumin.mois.go.kr/\")\n",
    "\n",
    "wait = WebDriverWait(driver, 10) \n",
    "\n",
    "admm_age_element = wait.until(EC.element_to_be_clickable((By.ID, 'admmAge')))\n",
    "admm_age_element.click()\n",
    "\n",
    "driver.switch_to.frame(driver.find_element(By.ID, 'totalFrame'))\n",
    "\n",
    "wait.until(EC.presence_of_element_located((By.NAME, 'searchYearStart')))\n",
    "\n",
    "select_elements = {\n",
    "    'searchYearStart': '2023',\n",
    "    'searchYearEnd': '2023',\n",
    "    'searchMonthStart': '12',\n",
    "    'searchMonthEnd': '12'\n",
    "}\n",
    "for name, value in select_elements.items():\n",
    "    select_element = wait.until(EC.presence_of_element_located((By.NAME, name)))\n",
    "    select = Select(select_element)\n",
    "    select.select_by_value(value)\n",
    "    print(f\"Selected {value} for {name}\")\n",
    "\n",
    "select = wait.until(EC.presence_of_element_located((By.NAME, 'sltArgTypes')))\n",
    "select = Select(select)\n",
    "select.select_by_value('5')\n",
    "\n",
    "select = wait.until(EC.presence_of_element_located((By.NAME, 'sltArgTypeB')))\n",
    "select = Select(select)\n",
    "select.select_by_value('100')\n",
    "\n",
    "search_button = wait.until(EC.element_to_be_clickable((By.CLASS_NAME, 'btn_search')))\n",
    "search_button.click()\n",
    "\n",
    "download_button = wait.until(EC.element_to_be_clickable((By.CLASS_NAME, 'btn_down')))\n",
    "download_button.click()\n",
    "\n",
    "wait.until(EC.alert_is_present())\n",
    "alert = Alert(driver)\n",
    "alert.accept()\n"
   ]
  }
 ],
 "metadata": {
  "kernelspec": {
   "display_name": "Python 3",
   "language": "python",
   "name": "python3"
  },
  "language_info": {
   "codemirror_mode": {
    "name": "ipython",
    "version": 3
   },
   "file_extension": ".py",
   "mimetype": "text/x-python",
   "name": "python",
   "nbconvert_exporter": "python",
   "pygments_lexer": "ipython3",
   "version": "3.11.8"
  }
 },
 "nbformat": 4,
 "nbformat_minor": 2
}
